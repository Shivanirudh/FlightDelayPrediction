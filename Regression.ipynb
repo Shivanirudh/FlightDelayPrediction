{
 "cells": [
  {
   "cell_type": "code",
   "execution_count": 1,
   "metadata": {
    "_cell_guid": "b1076dfc-b9ad-4769-8c92-a6c4dae69d19",
    "_uuid": "8f2839f25d086af736a60e9eeb907d3b93b6e0e5",
    "execution": {
     "iopub.execute_input": "2020-09-09T13:22:49.089514Z",
     "iopub.status.busy": "2020-09-09T13:22:49.088913Z",
     "iopub.status.idle": "2020-09-09T13:22:49.097748Z",
     "shell.execute_reply": "2020-09-09T13:22:49.097170Z"
    },
    "papermill": {
     "duration": 0.041023,
     "end_time": "2020-09-09T13:22:49.097877",
     "exception": false,
     "start_time": "2020-09-09T13:22:49.056854",
     "status": "completed"
    },
    "tags": []
   },
   "outputs": [
    {
     "name": "stdout",
     "output_type": "stream",
     "text": [
      "/kaggle/input/flights-dataset/flights_df1.csv\n",
      "/kaggle/input/flights-dataset/flights_df.csv\n"
     ]
    }
   ],
   "source": [
    "# This Python 3 environment comes with many helpful analytics libraries installed\n",
    "# It is defined by the kaggle/python Docker image: https://github.com/kaggle/docker-python\n",
    "# For example, here's several helpful packages to load\n",
    "\n",
    "import numpy as np # linear algebra\n",
    "import pandas as pd # data processing, CSV file I/O (e.g. pd.read_csv)\n",
    "\n",
    "# Input data files are available in the read-only \"../input/\" directory\n",
    "# For example, running this (by clicking run or pressing Shift+Enter) will list all files under the input directory\n",
    "\n",
    "import os\n",
    "for dirname, _, filenames in os.walk('/kaggle/input'):\n",
    "    for filename in filenames:\n",
    "        print(os.path.join(dirname, filename))\n",
    "\n",
    "# You can write up to 5GB to the current directory (/kaggle/working/) that gets preserved as output when you create a version using \"Save & Run All\" \n",
    "# You can also write temporary files to /kaggle/temp/, but they won't be saved outside of the current session"
   ]
  },
  {
   "cell_type": "code",
   "execution_count": 2,
   "metadata": {
    "_cell_guid": "79c7e3d0-c299-4dcb-8224-4455121ee9b0",
    "_uuid": "d629ff2d2480ee46fbb7e2d37f6b5fab8052498a",
    "execution": {
     "iopub.execute_input": "2020-09-09T13:22:49.134589Z",
     "iopub.status.busy": "2020-09-09T13:22:49.133985Z",
     "iopub.status.idle": "2020-09-09T13:22:50.039353Z",
     "shell.execute_reply": "2020-09-09T13:22:50.038551Z"
    },
    "papermill": {
     "duration": 0.925786,
     "end_time": "2020-09-09T13:22:50.039463",
     "exception": false,
     "start_time": "2020-09-09T13:22:49.113677",
     "status": "completed"
    },
    "tags": []
   },
   "outputs": [],
   "source": [
    "import numpy as np\n",
    "import pandas as pd\n",
    "import csv\n",
    "import matplotlib.pyplot as plt\n",
    "import json\n",
    "import os\n",
    "from sklearn.model_selection import train_test_split\n",
    "from sklearn.metrics import mean_absolute_error, mean_squared_error, r2_score"
   ]
  },
  {
   "cell_type": "code",
   "execution_count": 3,
   "metadata": {
    "execution": {
     "iopub.execute_input": "2020-09-09T13:22:50.086091Z",
     "iopub.status.busy": "2020-09-09T13:22:50.085424Z",
     "iopub.status.idle": "2020-09-09T13:22:54.937692Z",
     "shell.execute_reply": "2020-09-09T13:22:54.936987Z"
    },
    "papermill": {
     "duration": 4.881979,
     "end_time": "2020-09-09T13:22:54.937866",
     "exception": false,
     "start_time": "2020-09-09T13:22:50.055887",
     "status": "completed"
    },
    "tags": []
   },
   "outputs": [],
   "source": [
    "OG_df = pd.read_csv('/kaggle/input/flights-dataset/flights_df.csv')"
   ]
  },
  {
   "cell_type": "code",
   "execution_count": 4,
   "metadata": {
    "execution": {
     "iopub.execute_input": "2020-09-09T13:22:54.983906Z",
     "iopub.status.busy": "2020-09-09T13:22:54.983045Z",
     "iopub.status.idle": "2020-09-09T13:22:54.987574Z",
     "shell.execute_reply": "2020-09-09T13:22:54.986941Z"
    },
    "papermill": {
     "duration": 0.027241,
     "end_time": "2020-09-09T13:22:54.987676",
     "exception": false,
     "start_time": "2020-09-09T13:22:54.960435",
     "status": "completed"
    },
    "tags": []
   },
   "outputs": [
    {
     "data": {
      "text/plain": [
       "(1877274, 30)"
      ]
     },
     "execution_count": 4,
     "metadata": {},
     "output_type": "execute_result"
    }
   ],
   "source": [
    "OG_df.shape"
   ]
  },
  {
   "cell_type": "code",
   "execution_count": 5,
   "metadata": {
    "execution": {
     "iopub.execute_input": "2020-09-09T13:22:55.029274Z",
     "iopub.status.busy": "2020-09-09T13:22:55.028349Z",
     "iopub.status.idle": "2020-09-09T13:22:55.094399Z",
     "shell.execute_reply": "2020-09-09T13:22:55.095185Z"
    },
    "papermill": {
     "duration": 0.091428,
     "end_time": "2020-09-09T13:22:55.095331",
     "exception": false,
     "start_time": "2020-09-09T13:22:55.003903",
     "status": "completed"
    },
    "tags": []
   },
   "outputs": [],
   "source": [
    "df = OG_df[OG_df['ArrDel15'] == 1.0]"
   ]
  },
  {
   "cell_type": "code",
   "execution_count": 6,
   "metadata": {
    "execution": {
     "iopub.execute_input": "2020-09-09T13:22:55.153947Z",
     "iopub.status.busy": "2020-09-09T13:22:55.153261Z",
     "iopub.status.idle": "2020-09-09T13:22:55.171462Z",
     "shell.execute_reply": "2020-09-09T13:22:55.170837Z"
    },
    "papermill": {
     "duration": 0.059541,
     "end_time": "2020-09-09T13:22:55.171565",
     "exception": false,
     "start_time": "2020-09-09T13:22:55.112024",
     "status": "completed"
    },
    "tags": []
   },
   "outputs": [
    {
     "data": {
      "text/html": [
       "<div>\n",
       "<style scoped>\n",
       "    .dataframe tbody tr th:only-of-type {\n",
       "        vertical-align: middle;\n",
       "    }\n",
       "\n",
       "    .dataframe tbody tr th {\n",
       "        vertical-align: top;\n",
       "    }\n",
       "\n",
       "    .dataframe thead th {\n",
       "        text-align: right;\n",
       "    }\n",
       "</style>\n",
       "<table border=\"1\" class=\"dataframe\">\n",
       "  <thead>\n",
       "    <tr style=\"text-align: right;\">\n",
       "      <th></th>\n",
       "      <th>FlightDate</th>\n",
       "      <th>Quarter</th>\n",
       "      <th>Year</th>\n",
       "      <th>Month</th>\n",
       "      <th>DayofMonth</th>\n",
       "      <th>DepTime</th>\n",
       "      <th>DepDel15</th>\n",
       "      <th>CRSDepTime</th>\n",
       "      <th>DepDelayMinutes</th>\n",
       "      <th>OriginAirportID</th>\n",
       "      <th>...</th>\n",
       "      <th>pressure</th>\n",
       "      <th>cloudcover</th>\n",
       "      <th>DewPointF</th>\n",
       "      <th>WindGustKmph</th>\n",
       "      <th>tempF</th>\n",
       "      <th>WindChillF</th>\n",
       "      <th>humidity</th>\n",
       "      <th>date</th>\n",
       "      <th>time</th>\n",
       "      <th>airport</th>\n",
       "    </tr>\n",
       "  </thead>\n",
       "  <tbody>\n",
       "    <tr>\n",
       "      <th>7</th>\n",
       "      <td>2016-01-01</td>\n",
       "      <td>1</td>\n",
       "      <td>2016</td>\n",
       "      <td>1</td>\n",
       "      <td>1</td>\n",
       "      <td>949.0</td>\n",
       "      <td>1.0</td>\n",
       "      <td>924</td>\n",
       "      <td>25.0</td>\n",
       "      <td>11057</td>\n",
       "      <td>...</td>\n",
       "      <td>1023</td>\n",
       "      <td>92</td>\n",
       "      <td>42</td>\n",
       "      <td>10</td>\n",
       "      <td>46</td>\n",
       "      <td>43</td>\n",
       "      <td>90</td>\n",
       "      <td>2016-01-01</td>\n",
       "      <td>900.0</td>\n",
       "      <td>11057</td>\n",
       "    </tr>\n",
       "    <tr>\n",
       "      <th>11</th>\n",
       "      <td>2016-01-01</td>\n",
       "      <td>1</td>\n",
       "      <td>2016</td>\n",
       "      <td>1</td>\n",
       "      <td>1</td>\n",
       "      <td>957.0</td>\n",
       "      <td>1.0</td>\n",
       "      <td>930</td>\n",
       "      <td>27.0</td>\n",
       "      <td>11057</td>\n",
       "      <td>...</td>\n",
       "      <td>1023</td>\n",
       "      <td>92</td>\n",
       "      <td>42</td>\n",
       "      <td>10</td>\n",
       "      <td>46</td>\n",
       "      <td>43</td>\n",
       "      <td>90</td>\n",
       "      <td>2016-01-01</td>\n",
       "      <td>900.0</td>\n",
       "      <td>11057</td>\n",
       "    </tr>\n",
       "    <tr>\n",
       "      <th>24</th>\n",
       "      <td>2016-01-01</td>\n",
       "      <td>1</td>\n",
       "      <td>2016</td>\n",
       "      <td>1</td>\n",
       "      <td>1</td>\n",
       "      <td>1446.0</td>\n",
       "      <td>1.0</td>\n",
       "      <td>1325</td>\n",
       "      <td>81.0</td>\n",
       "      <td>11057</td>\n",
       "      <td>...</td>\n",
       "      <td>1023</td>\n",
       "      <td>91</td>\n",
       "      <td>41</td>\n",
       "      <td>8</td>\n",
       "      <td>49</td>\n",
       "      <td>47</td>\n",
       "      <td>76</td>\n",
       "      <td>2016-01-01</td>\n",
       "      <td>1300.0</td>\n",
       "      <td>11057</td>\n",
       "    </tr>\n",
       "    <tr>\n",
       "      <th>46</th>\n",
       "      <td>2016-01-02</td>\n",
       "      <td>1</td>\n",
       "      <td>2016</td>\n",
       "      <td>1</td>\n",
       "      <td>2</td>\n",
       "      <td>957.0</td>\n",
       "      <td>1.0</td>\n",
       "      <td>929</td>\n",
       "      <td>28.0</td>\n",
       "      <td>11057</td>\n",
       "      <td>...</td>\n",
       "      <td>1025</td>\n",
       "      <td>0</td>\n",
       "      <td>34</td>\n",
       "      <td>6</td>\n",
       "      <td>40</td>\n",
       "      <td>37</td>\n",
       "      <td>82</td>\n",
       "      <td>2016-01-02</td>\n",
       "      <td>900.0</td>\n",
       "      <td>11057</td>\n",
       "    </tr>\n",
       "    <tr>\n",
       "      <th>47</th>\n",
       "      <td>2016-01-02</td>\n",
       "      <td>1</td>\n",
       "      <td>2016</td>\n",
       "      <td>1</td>\n",
       "      <td>2</td>\n",
       "      <td>948.0</td>\n",
       "      <td>1.0</td>\n",
       "      <td>929</td>\n",
       "      <td>19.0</td>\n",
       "      <td>11057</td>\n",
       "      <td>...</td>\n",
       "      <td>1025</td>\n",
       "      <td>0</td>\n",
       "      <td>34</td>\n",
       "      <td>6</td>\n",
       "      <td>40</td>\n",
       "      <td>37</td>\n",
       "      <td>82</td>\n",
       "      <td>2016-01-02</td>\n",
       "      <td>900.0</td>\n",
       "      <td>11057</td>\n",
       "    </tr>\n",
       "  </tbody>\n",
       "</table>\n",
       "<p>5 rows × 30 columns</p>\n",
       "</div>"
      ],
      "text/plain": [
       "    FlightDate  Quarter  Year  Month  DayofMonth  DepTime  DepDel15  \\\n",
       "7   2016-01-01        1  2016      1           1    949.0       1.0   \n",
       "11  2016-01-01        1  2016      1           1    957.0       1.0   \n",
       "24  2016-01-01        1  2016      1           1   1446.0       1.0   \n",
       "46  2016-01-02        1  2016      1           2    957.0       1.0   \n",
       "47  2016-01-02        1  2016      1           2    948.0       1.0   \n",
       "\n",
       "    CRSDepTime  DepDelayMinutes  OriginAirportID  ...  pressure  cloudcover  \\\n",
       "7          924             25.0            11057  ...      1023          92   \n",
       "11         930             27.0            11057  ...      1023          92   \n",
       "24        1325             81.0            11057  ...      1023          91   \n",
       "46         929             28.0            11057  ...      1025           0   \n",
       "47         929             19.0            11057  ...      1025           0   \n",
       "\n",
       "    DewPointF  WindGustKmph  tempF  WindChillF  humidity        date    time  \\\n",
       "7          42            10     46          43        90  2016-01-01   900.0   \n",
       "11         42            10     46          43        90  2016-01-01   900.0   \n",
       "24         41             8     49          47        76  2016-01-01  1300.0   \n",
       "46         34             6     40          37        82  2016-01-02   900.0   \n",
       "47         34             6     40          37        82  2016-01-02   900.0   \n",
       "\n",
       "    airport  \n",
       "7     11057  \n",
       "11    11057  \n",
       "24    11057  \n",
       "46    11057  \n",
       "47    11057  \n",
       "\n",
       "[5 rows x 30 columns]"
      ]
     },
     "execution_count": 6,
     "metadata": {},
     "output_type": "execute_result"
    }
   ],
   "source": [
    "df.head()"
   ]
  },
  {
   "cell_type": "code",
   "execution_count": 7,
   "metadata": {
    "execution": {
     "iopub.execute_input": "2020-09-09T13:22:55.210522Z",
     "iopub.status.busy": "2020-09-09T13:22:55.209671Z",
     "iopub.status.idle": "2020-09-09T13:22:55.214451Z",
     "shell.execute_reply": "2020-09-09T13:22:55.213697Z"
    },
    "papermill": {
     "duration": 0.025871,
     "end_time": "2020-09-09T13:22:55.214572",
     "exception": false,
     "start_time": "2020-09-09T13:22:55.188701",
     "status": "completed"
    },
    "tags": []
   },
   "outputs": [
    {
     "data": {
      "text/plain": [
       "(388058, 30)"
      ]
     },
     "execution_count": 7,
     "metadata": {},
     "output_type": "execute_result"
    }
   ],
   "source": [
    "df.shape"
   ]
  },
  {
   "cell_type": "code",
   "execution_count": 8,
   "metadata": {
    "execution": {
     "iopub.execute_input": "2020-09-09T13:22:55.273097Z",
     "iopub.status.busy": "2020-09-09T13:22:55.271946Z",
     "iopub.status.idle": "2020-09-09T13:22:55.327894Z",
     "shell.execute_reply": "2020-09-09T13:22:55.327207Z"
    },
    "papermill": {
     "duration": 0.086929,
     "end_time": "2020-09-09T13:22:55.328024",
     "exception": false,
     "start_time": "2020-09-09T13:22:55.241095",
     "status": "completed"
    },
    "tags": []
   },
   "outputs": [
    {
     "data": {
      "text/plain": [
       "FlightDate         0\n",
       "Quarter            0\n",
       "Year               0\n",
       "Month              0\n",
       "DayofMonth         0\n",
       "DepTime            0\n",
       "DepDel15           0\n",
       "CRSDepTime         0\n",
       "DepDelayMinutes    0\n",
       "OriginAirportID    0\n",
       "DestAirportID      0\n",
       "ArrTime            0\n",
       "CRSArrTime         0\n",
       "ArrDel15           0\n",
       "ArrDelayMinutes    0\n",
       "windspeedKmph      0\n",
       "winddirDegree      0\n",
       "weatherCode        0\n",
       "precipMM           0\n",
       "visibility         0\n",
       "pressure           0\n",
       "cloudcover         0\n",
       "DewPointF          0\n",
       "WindGustKmph       0\n",
       "tempF              0\n",
       "WindChillF         0\n",
       "humidity           0\n",
       "date               0\n",
       "time               0\n",
       "airport            0\n",
       "dtype: int64"
      ]
     },
     "execution_count": 8,
     "metadata": {},
     "output_type": "execute_result"
    }
   ],
   "source": [
    "df.isnull().sum()"
   ]
  },
  {
   "cell_type": "markdown",
   "execution_count": null,
   "metadata": {
    "papermill": {
     "duration": 0.027372,
     "end_time": "2020-09-09T13:22:55.382939",
     "exception": false,
     "start_time": "2020-09-09T13:22:55.355567",
     "status": "completed"
    },
    "tags": []
   },
   "source": [
    "## Splitting Data"
   ]
  },
  {
   "cell_type": "code",
   "execution_count": 9,
   "metadata": {
    "execution": {
     "iopub.execute_input": "2020-09-09T13:22:55.448322Z",
     "iopub.status.busy": "2020-09-09T13:22:55.447492Z",
     "iopub.status.idle": "2020-09-09T13:22:55.527403Z",
     "shell.execute_reply": "2020-09-09T13:22:55.526686Z"
    },
    "papermill": {
     "duration": 0.124341,
     "end_time": "2020-09-09T13:22:55.527715",
     "exception": false,
     "start_time": "2020-09-09T13:22:55.403374",
     "status": "completed"
    },
    "tags": []
   },
   "outputs": [],
   "source": [
    "X_train, X_test, Y_train, Y_test = train_test_split(df.drop(['ArrDel15','ArrTime', 'ArrDelayMinutes', 'Quarter', 'date', 'airport', 'FlightDate'], axis = 1), df['ArrDelayMinutes'], test_size = 0.2)"
   ]
  },
  {
   "cell_type": "code",
   "execution_count": 10,
   "metadata": {
    "execution": {
     "iopub.execute_input": "2020-09-09T13:22:55.589465Z",
     "iopub.status.busy": "2020-09-09T13:22:55.588848Z",
     "iopub.status.idle": "2020-09-09T13:22:55.593573Z",
     "shell.execute_reply": "2020-09-09T13:22:55.592729Z"
    },
    "papermill": {
     "duration": 0.03763,
     "end_time": "2020-09-09T13:22:55.593698",
     "exception": false,
     "start_time": "2020-09-09T13:22:55.556068",
     "status": "completed"
    },
    "tags": []
   },
   "outputs": [
    {
     "name": "stdout",
     "output_type": "stream",
     "text": [
      "(310446, 23) (310446,)\n",
      "(77612, 23) (77612,)\n"
     ]
    }
   ],
   "source": [
    "print(X_train.shape, Y_train.shape)\n",
    "print(X_test.shape, Y_test.shape)"
   ]
  },
  {
   "cell_type": "code",
   "execution_count": 11,
   "metadata": {
    "execution": {
     "iopub.execute_input": "2020-09-09T13:22:55.637535Z",
     "iopub.status.busy": "2020-09-09T13:22:55.636933Z",
     "iopub.status.idle": "2020-09-09T13:22:55.830193Z",
     "shell.execute_reply": "2020-09-09T13:22:55.829560Z"
    },
    "papermill": {
     "duration": 0.217751,
     "end_time": "2020-09-09T13:22:55.830316",
     "exception": false,
     "start_time": "2020-09-09T13:22:55.612565",
     "status": "completed"
    },
    "tags": []
   },
   "outputs": [],
   "source": [
    "from sklearn.preprocessing import scale\n",
    "X_train  = scale(X_train)\n",
    "X_test = scale(X_test)"
   ]
  },
  {
   "cell_type": "markdown",
   "execution_count": null,
   "metadata": {
    "papermill": {
     "duration": 0.017601,
     "end_time": "2020-09-09T13:22:55.866765",
     "exception": false,
     "start_time": "2020-09-09T13:22:55.849164",
     "status": "completed"
    },
    "tags": []
   },
   "source": [
    "## Linear Regression"
   ]
  },
  {
   "cell_type": "code",
   "execution_count": 12,
   "metadata": {
    "execution": {
     "iopub.execute_input": "2020-09-09T13:22:55.908197Z",
     "iopub.status.busy": "2020-09-09T13:22:55.907557Z",
     "iopub.status.idle": "2020-09-09T13:22:55.998469Z",
     "shell.execute_reply": "2020-09-09T13:22:55.997584Z"
    },
    "papermill": {
     "duration": 0.112634,
     "end_time": "2020-09-09T13:22:55.998605",
     "exception": false,
     "start_time": "2020-09-09T13:22:55.885971",
     "status": "completed"
    },
    "tags": []
   },
   "outputs": [],
   "source": [
    "from sklearn.linear_model import LinearRegression\n",
    "lr = LinearRegression()"
   ]
  },
  {
   "cell_type": "code",
   "execution_count": 13,
   "metadata": {
    "execution": {
     "iopub.execute_input": "2020-09-09T13:22:56.058650Z",
     "iopub.status.busy": "2020-09-09T13:22:56.058074Z",
     "iopub.status.idle": "2020-09-09T13:22:56.227310Z",
     "shell.execute_reply": "2020-09-09T13:22:56.227780Z"
    },
    "papermill": {
     "duration": 0.200879,
     "end_time": "2020-09-09T13:22:56.227949",
     "exception": false,
     "start_time": "2020-09-09T13:22:56.027070",
     "status": "completed"
    },
    "tags": []
   },
   "outputs": [],
   "source": [
    "lr = lr.fit(X_train, Y_train)"
   ]
  },
  {
   "cell_type": "code",
   "execution_count": 14,
   "metadata": {
    "execution": {
     "iopub.execute_input": "2020-09-09T13:22:56.268921Z",
     "iopub.status.busy": "2020-09-09T13:22:56.268249Z",
     "iopub.status.idle": "2020-09-09T13:22:56.274580Z",
     "shell.execute_reply": "2020-09-09T13:22:56.275150Z"
    },
    "papermill": {
     "duration": 0.028943,
     "end_time": "2020-09-09T13:22:56.275319",
     "exception": false,
     "start_time": "2020-09-09T13:22:56.246376",
     "status": "completed"
    },
    "tags": []
   },
   "outputs": [],
   "source": [
    "y_preds_lr = lr.predict(X_test)"
   ]
  },
  {
   "cell_type": "code",
   "execution_count": 15,
   "metadata": {
    "execution": {
     "iopub.execute_input": "2020-09-09T13:22:56.323435Z",
     "iopub.status.busy": "2020-09-09T13:22:56.322653Z",
     "iopub.status.idle": "2020-09-09T13:22:56.331192Z",
     "shell.execute_reply": "2020-09-09T13:22:56.330503Z"
    },
    "papermill": {
     "duration": 0.032919,
     "end_time": "2020-09-09T13:22:56.331305",
     "exception": false,
     "start_time": "2020-09-09T13:22:56.298386",
     "status": "completed"
    },
    "tags": []
   },
   "outputs": [
    {
     "name": "stdout",
     "output_type": "stream",
     "text": [
      "MAE: 12.427485989726534\n",
      "MSE: 318.37967920913735\n",
      "R2: 0.935930569232742\n"
     ]
    }
   ],
   "source": [
    "print(\"MAE: \" + str(mean_absolute_error(Y_test, y_preds_lr)))\n",
    "print(\"MSE: \" + str(mean_squared_error(Y_test, y_preds_lr)))\n",
    "print(\"R2: \" + str(r2_score(Y_test, y_preds_lr)))"
   ]
  },
  {
   "cell_type": "markdown",
   "execution_count": null,
   "metadata": {
    "papermill": {
     "duration": 0.018125,
     "end_time": "2020-09-09T13:22:56.368257",
     "exception": false,
     "start_time": "2020-09-09T13:22:56.350132",
     "status": "completed"
    },
    "tags": []
   },
   "source": [
    "## Extra Trees Regressor"
   ]
  },
  {
   "cell_type": "code",
   "execution_count": 16,
   "metadata": {
    "execution": {
     "iopub.execute_input": "2020-09-09T13:22:56.409973Z",
     "iopub.status.busy": "2020-09-09T13:22:56.409309Z",
     "iopub.status.idle": "2020-09-09T13:22:56.541366Z",
     "shell.execute_reply": "2020-09-09T13:22:56.540853Z"
    },
    "papermill": {
     "duration": 0.154911,
     "end_time": "2020-09-09T13:22:56.541477",
     "exception": false,
     "start_time": "2020-09-09T13:22:56.386566",
     "status": "completed"
    },
    "tags": []
   },
   "outputs": [],
   "source": [
    "from sklearn.ensemble import ExtraTreesRegressor\n",
    "etr = ExtraTreesRegressor(n_estimators = 100)"
   ]
  },
  {
   "cell_type": "code",
   "execution_count": 17,
   "metadata": {
    "execution": {
     "iopub.execute_input": "2020-09-09T13:22:56.586128Z",
     "iopub.status.busy": "2020-09-09T13:22:56.584972Z",
     "iopub.status.idle": "2020-09-09T13:27:51.149870Z",
     "shell.execute_reply": "2020-09-09T13:27:51.149007Z"
    },
    "papermill": {
     "duration": 294.589793,
     "end_time": "2020-09-09T13:27:51.150000",
     "exception": false,
     "start_time": "2020-09-09T13:22:56.560207",
     "status": "completed"
    },
    "tags": []
   },
   "outputs": [],
   "source": [
    "etr = etr.fit(X_train, Y_train)"
   ]
  },
  {
   "cell_type": "code",
   "execution_count": 18,
   "metadata": {
    "execution": {
     "iopub.execute_input": "2020-09-09T13:27:51.212746Z",
     "iopub.status.busy": "2020-09-09T13:27:51.212118Z",
     "iopub.status.idle": "2020-09-09T13:27:56.432292Z",
     "shell.execute_reply": "2020-09-09T13:27:56.431638Z"
    },
    "papermill": {
     "duration": 5.253737,
     "end_time": "2020-09-09T13:27:56.432396",
     "exception": false,
     "start_time": "2020-09-09T13:27:51.178659",
     "status": "completed"
    },
    "tags": []
   },
   "outputs": [],
   "source": [
    "y_preds_et = etr.predict(X_test)"
   ]
  },
  {
   "cell_type": "code",
   "execution_count": 19,
   "metadata": {
    "execution": {
     "iopub.execute_input": "2020-09-09T13:27:56.475778Z",
     "iopub.status.busy": "2020-09-09T13:27:56.475008Z",
     "iopub.status.idle": "2020-09-09T13:27:56.482430Z",
     "shell.execute_reply": "2020-09-09T13:27:56.481690Z"
    },
    "papermill": {
     "duration": 0.031298,
     "end_time": "2020-09-09T13:27:56.482544",
     "exception": false,
     "start_time": "2020-09-09T13:27:56.451246",
     "status": "completed"
    },
    "tags": []
   },
   "outputs": [
    {
     "name": "stdout",
     "output_type": "stream",
     "text": [
      "MAE: 12.099680204092149\n",
      "MSE: 293.2383966719064\n",
      "R2: 0.9409898985998688\n"
     ]
    }
   ],
   "source": [
    "print(\"MAE: \" + str(mean_absolute_error(Y_test, y_preds_et)))\n",
    "print(\"MSE: \" + str(mean_squared_error(Y_test, y_preds_et)))\n",
    "print(\"R2: \" + str(r2_score(Y_test, y_preds_et)))"
   ]
  },
  {
   "cell_type": "markdown",
   "execution_count": null,
   "metadata": {
    "papermill": {
     "duration": 0.027715,
     "end_time": "2020-09-09T13:27:56.538775",
     "exception": false,
     "start_time": "2020-09-09T13:27:56.511060",
     "status": "completed"
    },
    "tags": []
   },
   "source": [
    "## Gradient Boosting Regressor"
   ]
  },
  {
   "cell_type": "code",
   "execution_count": 20,
   "metadata": {
    "execution": {
     "iopub.execute_input": "2020-09-09T13:27:56.599869Z",
     "iopub.status.busy": "2020-09-09T13:27:56.599251Z",
     "iopub.status.idle": "2020-09-09T13:27:56.602002Z",
     "shell.execute_reply": "2020-09-09T13:27:56.601358Z"
    },
    "papermill": {
     "duration": 0.035252,
     "end_time": "2020-09-09T13:27:56.602098",
     "exception": false,
     "start_time": "2020-09-09T13:27:56.566846",
     "status": "completed"
    },
    "tags": []
   },
   "outputs": [],
   "source": [
    "from sklearn.ensemble import GradientBoostingRegressor\n",
    "gbr = GradientBoostingRegressor()"
   ]
  },
  {
   "cell_type": "code",
   "execution_count": 21,
   "metadata": {
    "execution": {
     "iopub.execute_input": "2020-09-09T13:27:56.642751Z",
     "iopub.status.busy": "2020-09-09T13:27:56.641983Z",
     "iopub.status.idle": "2020-09-09T13:29:54.026147Z",
     "shell.execute_reply": "2020-09-09T13:29:54.026967Z"
    },
    "papermill": {
     "duration": 117.40685,
     "end_time": "2020-09-09T13:29:54.027141",
     "exception": false,
     "start_time": "2020-09-09T13:27:56.620291",
     "status": "completed"
    },
    "tags": []
   },
   "outputs": [],
   "source": [
    "gbr = gbr.fit(X_train, Y_train)"
   ]
  },
  {
   "cell_type": "code",
   "execution_count": 22,
   "metadata": {
    "execution": {
     "iopub.execute_input": "2020-09-09T13:29:54.090581Z",
     "iopub.status.busy": "2020-09-09T13:29:54.089785Z",
     "iopub.status.idle": "2020-09-09T13:29:54.254626Z",
     "shell.execute_reply": "2020-09-09T13:29:54.255143Z"
    },
    "papermill": {
     "duration": 0.19825,
     "end_time": "2020-09-09T13:29:54.255286",
     "exception": false,
     "start_time": "2020-09-09T13:29:54.057036",
     "status": "completed"
    },
    "tags": []
   },
   "outputs": [],
   "source": [
    "y_preds_gb = gbr.predict(X_test)"
   ]
  },
  {
   "cell_type": "code",
   "execution_count": 23,
   "metadata": {
    "execution": {
     "iopub.execute_input": "2020-09-09T13:29:54.300778Z",
     "iopub.status.busy": "2020-09-09T13:29:54.299920Z",
     "iopub.status.idle": "2020-09-09T13:29:54.307492Z",
     "shell.execute_reply": "2020-09-09T13:29:54.306863Z"
    },
    "papermill": {
     "duration": 0.032275,
     "end_time": "2020-09-09T13:29:54.307590",
     "exception": false,
     "start_time": "2020-09-09T13:29:54.275315",
     "status": "completed"
    },
    "tags": []
   },
   "outputs": [
    {
     "name": "stdout",
     "output_type": "stream",
     "text": [
      "MAE: 11.865933497011595\n",
      "MSE: 294.17833890252183\n",
      "R2: 0.9408007484511557\n"
     ]
    }
   ],
   "source": [
    "print(\"MAE: \" + str(mean_absolute_error(Y_test, y_preds_gb)))\n",
    "print(\"MSE: \" + str(mean_squared_error(Y_test, y_preds_gb)))\n",
    "print(\"R2: \" + str(r2_score(Y_test, y_preds_gb)))"
   ]
  },
  {
   "cell_type": "markdown",
   "execution_count": null,
   "metadata": {
    "papermill": {
     "duration": 0.018643,
     "end_time": "2020-09-09T13:29:54.345147",
     "exception": false,
     "start_time": "2020-09-09T13:29:54.326504",
     "status": "completed"
    },
    "tags": []
   },
   "source": [
    "## Pipeline"
   ]
  },
  {
   "cell_type": "code",
   "execution_count": 24,
   "metadata": {
    "execution": {
     "iopub.execute_input": "2020-09-09T13:29:54.393638Z",
     "iopub.status.busy": "2020-09-09T13:29:54.393048Z",
     "iopub.status.idle": "2020-09-09T13:29:55.245399Z",
     "shell.execute_reply": "2020-09-09T13:29:55.244854Z"
    },
    "papermill": {
     "duration": 0.880147,
     "end_time": "2020-09-09T13:29:55.245514",
     "exception": false,
     "start_time": "2020-09-09T13:29:54.365367",
     "status": "completed"
    },
    "tags": []
   },
   "outputs": [],
   "source": [
    "OG_df.dropna(inplace = True)"
   ]
  },
  {
   "cell_type": "code",
   "execution_count": 25,
   "metadata": {
    "execution": {
     "iopub.execute_input": "2020-09-09T13:29:55.291881Z",
     "iopub.status.busy": "2020-09-09T13:29:55.291258Z",
     "iopub.status.idle": "2020-09-09T13:29:55.426914Z",
     "shell.execute_reply": "2020-09-09T13:29:55.426136Z"
    },
    "papermill": {
     "duration": 0.161425,
     "end_time": "2020-09-09T13:29:55.427029",
     "exception": false,
     "start_time": "2020-09-09T13:29:55.265604",
     "status": "completed"
    },
    "tags": []
   },
   "outputs": [],
   "source": [
    "from sklearn.preprocessing import scale\n",
    "from imblearn.over_sampling import SMOTE\n",
    "from sklearn.ensemble import ExtraTreesClassifier"
   ]
  },
  {
   "cell_type": "code",
   "execution_count": 26,
   "metadata": {
    "execution": {
     "iopub.execute_input": "2020-09-09T13:29:55.535290Z",
     "iopub.status.busy": "2020-09-09T13:29:55.529599Z",
     "iopub.status.idle": "2020-09-09T13:29:55.538881Z",
     "shell.execute_reply": "2020-09-09T13:29:55.537985Z"
    },
    "papermill": {
     "duration": 0.091592,
     "end_time": "2020-09-09T13:29:55.539011",
     "exception": false,
     "start_time": "2020-09-09T13:29:55.447419",
     "status": "completed"
    },
    "tags": []
   },
   "outputs": [],
   "source": [
    "X = OG_df.drop(['ArrDel15','ArrTime', 'ArrDelayMinutes', 'Quarter', 'date', 'airport', 'FlightDate'], axis = 1)\n",
    "Y = OG_df[['ArrDelayMinutes', 'ArrDel15']]"
   ]
  },
  {
   "cell_type": "code",
   "execution_count": 27,
   "metadata": {
    "execution": {
     "iopub.execute_input": "2020-09-09T13:29:55.606888Z",
     "iopub.status.busy": "2020-09-09T13:29:55.606197Z",
     "iopub.status.idle": "2020-09-09T13:29:57.599150Z",
     "shell.execute_reply": "2020-09-09T13:29:57.598480Z"
    },
    "papermill": {
     "duration": 2.030395,
     "end_time": "2020-09-09T13:29:57.599264",
     "exception": false,
     "start_time": "2020-09-09T13:29:55.568869",
     "status": "completed"
    },
    "tags": []
   },
   "outputs": [],
   "source": [
    "X_train_p, X_test_p, Y_train_p, Y_test_p = train_test_split(X, Y.drop(['ArrDelayMinutes'], axis = 1), test_size = 0.2)\n",
    "\n",
    "X_train_p = X_train_p.reset_index()\n",
    "X_test_p = X_test_p.reset_index()\n",
    "\n",
    "X_train_p = scale(X_train_p)\n",
    "X_test_p = scale(X_test_p)"
   ]
  },
  {
   "cell_type": "code",
   "execution_count": 28,
   "metadata": {
    "execution": {
     "iopub.execute_input": "2020-09-09T13:29:57.643013Z",
     "iopub.status.busy": "2020-09-09T13:29:57.642336Z",
     "iopub.status.idle": "2020-09-09T14:06:02.859698Z",
     "shell.execute_reply": "2020-09-09T14:06:02.859193Z"
    },
    "papermill": {
     "duration": 2165.241198,
     "end_time": "2020-09-09T14:06:02.859838",
     "exception": false,
     "start_time": "2020-09-09T13:29:57.618640",
     "status": "completed"
    },
    "tags": []
   },
   "outputs": [],
   "source": [
    "sm = SMOTE()\n",
    "X_train_ps, Y_train_ps = sm.fit_sample(X_train_p, Y_train_p)"
   ]
  },
  {
   "cell_type": "code",
   "execution_count": 29,
   "metadata": {
    "execution": {
     "iopub.execute_input": "2020-09-09T14:06:02.903597Z",
     "iopub.status.busy": "2020-09-09T14:06:02.903017Z",
     "iopub.status.idle": "2020-09-09T14:20:48.060703Z",
     "shell.execute_reply": "2020-09-09T14:20:48.060185Z"
    },
    "papermill": {
     "duration": 885.181728,
     "end_time": "2020-09-09T14:20:48.060836",
     "exception": false,
     "start_time": "2020-09-09T14:06:02.879108",
     "status": "completed"
    },
    "tags": []
   },
   "outputs": [
    {
     "name": "stderr",
     "output_type": "stream",
     "text": [
      "/opt/conda/lib/python3.7/site-packages/ipykernel_launcher.py:2: DataConversionWarning: A column-vector y was passed when a 1d array was expected. Please change the shape of y to (n_samples,), for example using ravel().\n",
      "  \n"
     ]
    }
   ],
   "source": [
    "etc = ExtraTreesClassifier(n_estimators = 100)\n",
    "etc.fit(X_train_ps, Y_train_ps)\n",
    "y_preds_p = etc.predict(X_test_p)"
   ]
  },
  {
   "cell_type": "code",
   "execution_count": 30,
   "metadata": {
    "execution": {
     "iopub.execute_input": "2020-09-09T14:20:48.104363Z",
     "iopub.status.busy": "2020-09-09T14:20:48.103693Z",
     "iopub.status.idle": "2020-09-09T14:20:49.165194Z",
     "shell.execute_reply": "2020-09-09T14:20:49.164598Z"
    },
    "papermill": {
     "duration": 1.085051,
     "end_time": "2020-09-09T14:20:49.165301",
     "exception": false,
     "start_time": "2020-09-09T14:20:48.080250",
     "status": "completed"
    },
    "tags": []
   },
   "outputs": [
    {
     "name": "stdout",
     "output_type": "stream",
     "text": [
      "              precision    recall  f1-score   support\n",
      "\n",
      "         0.0       0.94      0.94      0.94    292535\n",
      "         1.0       0.77      0.77      0.77     77751\n",
      "\n",
      "    accuracy                           0.90    370286\n",
      "   macro avg       0.85      0.85      0.85    370286\n",
      "weighted avg       0.90      0.90      0.90    370286\n",
      "\n"
     ]
    }
   ],
   "source": [
    "from sklearn.metrics import classification_report\n",
    "print(classification_report(Y_test_p, y_preds_p))"
   ]
  },
  {
   "cell_type": "code",
   "execution_count": 31,
   "metadata": {
    "execution": {
     "iopub.execute_input": "2020-09-09T14:20:49.209066Z",
     "iopub.status.busy": "2020-09-09T14:20:49.208232Z",
     "iopub.status.idle": "2020-09-09T14:20:49.988315Z",
     "shell.execute_reply": "2020-09-09T14:20:49.987772Z"
    },
    "papermill": {
     "duration": 0.803473,
     "end_time": "2020-09-09T14:20:49.988424",
     "exception": false,
     "start_time": "2020-09-09T14:20:49.184951",
     "status": "completed"
    },
    "tags": []
   },
   "outputs": [],
   "source": [
    "X_tr_p, X_t_p, Y_tr_p, Y_t_p = train_test_split(X, Y, test_size = 0.2)"
   ]
  },
  {
   "cell_type": "code",
   "execution_count": 32,
   "metadata": {
    "execution": {
     "iopub.execute_input": "2020-09-09T14:20:50.032040Z",
     "iopub.status.busy": "2020-09-09T14:20:50.031325Z",
     "iopub.status.idle": "2020-09-09T14:20:50.036472Z",
     "shell.execute_reply": "2020-09-09T14:20:50.035725Z"
    },
    "papermill": {
     "duration": 0.028435,
     "end_time": "2020-09-09T14:20:50.036606",
     "exception": false,
     "start_time": "2020-09-09T14:20:50.008171",
     "status": "completed"
    },
    "tags": []
   },
   "outputs": [],
   "source": [
    "train_truth_val = Y_tr_p['ArrDel15'] == 1"
   ]
  },
  {
   "cell_type": "code",
   "execution_count": 33,
   "metadata": {
    "execution": {
     "iopub.execute_input": "2020-09-09T14:20:50.103302Z",
     "iopub.status.busy": "2020-09-09T14:20:50.102026Z",
     "iopub.status.idle": "2020-09-09T14:20:50.414212Z",
     "shell.execute_reply": "2020-09-09T14:20:50.413321Z"
    },
    "papermill": {
     "duration": 0.346906,
     "end_time": "2020-09-09T14:20:50.414350",
     "exception": false,
     "start_time": "2020-09-09T14:20:50.067444",
     "status": "completed"
    },
    "tags": []
   },
   "outputs": [],
   "source": [
    "X_train_pf = X_tr_p[train_truth_val]\n",
    "Y_train_pf = Y_tr_p[train_truth_val]['ArrDelayMinutes']"
   ]
  },
  {
   "cell_type": "code",
   "execution_count": 34,
   "metadata": {
    "execution": {
     "iopub.execute_input": "2020-09-09T14:20:50.493939Z",
     "iopub.status.busy": "2020-09-09T14:20:50.493039Z",
     "iopub.status.idle": "2020-09-09T14:20:50.496396Z",
     "shell.execute_reply": "2020-09-09T14:20:50.497115Z"
    },
    "papermill": {
     "duration": 0.043397,
     "end_time": "2020-09-09T14:20:50.497292",
     "exception": false,
     "start_time": "2020-09-09T14:20:50.453895",
     "status": "completed"
    },
    "tags": []
   },
   "outputs": [
    {
     "name": "stdout",
     "output_type": "stream",
     "text": [
      "310534 310534\n"
     ]
    }
   ],
   "source": [
    "print(len(Y_train_pf), len(X_train_pf))"
   ]
  },
  {
   "cell_type": "code",
   "execution_count": 35,
   "metadata": {
    "execution": {
     "iopub.execute_input": "2020-09-09T14:20:50.561662Z",
     "iopub.status.busy": "2020-09-09T14:20:50.560781Z",
     "iopub.status.idle": "2020-09-09T14:20:50.566528Z",
     "shell.execute_reply": "2020-09-09T14:20:50.565779Z"
    },
    "papermill": {
     "duration": 0.039668,
     "end_time": "2020-09-09T14:20:50.566676",
     "exception": false,
     "start_time": "2020-09-09T14:20:50.527008",
     "status": "completed"
    },
    "tags": []
   },
   "outputs": [
    {
     "data": {
      "text/plain": [
       "370286"
      ]
     },
     "execution_count": 35,
     "metadata": {},
     "output_type": "execute_result"
    }
   ],
   "source": [
    "len(y_preds_p)"
   ]
  },
  {
   "cell_type": "code",
   "execution_count": 36,
   "metadata": {
    "execution": {
     "iopub.execute_input": "2020-09-09T14:20:50.625068Z",
     "iopub.status.busy": "2020-09-09T14:20:50.624426Z",
     "iopub.status.idle": "2020-09-09T14:20:50.628274Z",
     "shell.execute_reply": "2020-09-09T14:20:50.627736Z"
    },
    "papermill": {
     "duration": 0.031847,
     "end_time": "2020-09-09T14:20:50.628373",
     "exception": false,
     "start_time": "2020-09-09T14:20:50.596526",
     "status": "completed"
    },
    "tags": []
   },
   "outputs": [],
   "source": [
    "test_truth_val = y_preds_p == 1"
   ]
  },
  {
   "cell_type": "code",
   "execution_count": 37,
   "metadata": {
    "execution": {
     "iopub.execute_input": "2020-09-09T14:20:50.673418Z",
     "iopub.status.busy": "2020-09-09T14:20:50.672767Z",
     "iopub.status.idle": "2020-09-09T14:20:50.729654Z",
     "shell.execute_reply": "2020-09-09T14:20:50.729112Z"
    },
    "papermill": {
     "duration": 0.080651,
     "end_time": "2020-09-09T14:20:50.729763",
     "exception": false,
     "start_time": "2020-09-09T14:20:50.649112",
     "status": "completed"
    },
    "tags": []
   },
   "outputs": [],
   "source": [
    "X_test_pf = X_t_p[test_truth_val]\n",
    "Y_test_pf = Y_t_p[test_truth_val]['ArrDelayMinutes']"
   ]
  },
  {
   "cell_type": "code",
   "execution_count": 38,
   "metadata": {
    "execution": {
     "iopub.execute_input": "2020-09-09T14:20:50.775160Z",
     "iopub.status.busy": "2020-09-09T14:20:50.774396Z",
     "iopub.status.idle": "2020-09-09T14:20:50.778311Z",
     "shell.execute_reply": "2020-09-09T14:20:50.778781Z"
    },
    "papermill": {
     "duration": 0.028773,
     "end_time": "2020-09-09T14:20:50.778933",
     "exception": false,
     "start_time": "2020-09-09T14:20:50.750160",
     "status": "completed"
    },
    "tags": []
   },
   "outputs": [
    {
     "data": {
      "text/plain": [
       "(77664, 77664)"
      ]
     },
     "execution_count": 38,
     "metadata": {},
     "output_type": "execute_result"
    }
   ],
   "source": [
    "len(X_test_pf), len(Y_test_pf)"
   ]
  },
  {
   "cell_type": "markdown",
   "execution_count": null,
   "metadata": {
    "papermill": {
     "duration": 0.020122,
     "end_time": "2020-09-09T14:20:50.819159",
     "exception": false,
     "start_time": "2020-09-09T14:20:50.799037",
     "status": "completed"
    },
    "tags": []
   },
   "source": [
    "#### Linear Regression"
   ]
  },
  {
   "cell_type": "code",
   "execution_count": 39,
   "metadata": {
    "execution": {
     "iopub.execute_input": "2020-09-09T14:20:50.866297Z",
     "iopub.status.busy": "2020-09-09T14:20:50.865683Z",
     "iopub.status.idle": "2020-09-09T14:20:51.452143Z",
     "shell.execute_reply": "2020-09-09T14:20:51.451465Z"
    },
    "papermill": {
     "duration": 0.612809,
     "end_time": "2020-09-09T14:20:51.452293",
     "exception": false,
     "start_time": "2020-09-09T14:20:50.839484",
     "status": "completed"
    },
    "tags": []
   },
   "outputs": [],
   "source": [
    "lr1 = LinearRegression()\n",
    "lr1.fit(X_train_pf, Y_train_pf)\n",
    "y_preds_plr = lr1.predict(X_test_pf)"
   ]
  },
  {
   "cell_type": "code",
   "execution_count": 40,
   "metadata": {
    "execution": {
     "iopub.execute_input": "2020-09-09T14:20:51.498977Z",
     "iopub.status.busy": "2020-09-09T14:20:51.498197Z",
     "iopub.status.idle": "2020-09-09T14:20:51.507329Z",
     "shell.execute_reply": "2020-09-09T14:20:51.506665Z"
    },
    "papermill": {
     "duration": 0.034751,
     "end_time": "2020-09-09T14:20:51.507425",
     "exception": false,
     "start_time": "2020-09-09T14:20:51.472674",
     "status": "completed"
    },
    "tags": []
   },
   "outputs": [
    {
     "name": "stdout",
     "output_type": "stream",
     "text": [
      "MAE: 20.946192137108035\n",
      "MSE: 509.1596445331863\n",
      "R2: 0.7144976112128003\n"
     ]
    }
   ],
   "source": [
    "print(\"MAE: \" + str(mean_absolute_error(Y_test_pf, y_preds_plr)))\n",
    "print(\"MSE: \" + str(mean_squared_error(Y_test_pf, y_preds_plr)))\n",
    "print(\"R2: \" + str(r2_score(Y_test_pf, y_preds_plr)))"
   ]
  },
  {
   "cell_type": "markdown",
   "execution_count": null,
   "metadata": {
    "papermill": {
     "duration": 0.019546,
     "end_time": "2020-09-09T14:20:51.546847",
     "exception": false,
     "start_time": "2020-09-09T14:20:51.527301",
     "status": "completed"
    },
    "tags": []
   },
   "source": [
    "#### Extra Trees Regressor"
   ]
  },
  {
   "cell_type": "code",
   "execution_count": 41,
   "metadata": {
    "execution": {
     "iopub.execute_input": "2020-09-09T14:20:51.594715Z",
     "iopub.status.busy": "2020-09-09T14:20:51.593987Z",
     "iopub.status.idle": "2020-09-09T14:26:38.604431Z",
     "shell.execute_reply": "2020-09-09T14:26:38.604932Z"
    },
    "papermill": {
     "duration": 347.038401,
     "end_time": "2020-09-09T14:26:38.605080",
     "exception": false,
     "start_time": "2020-09-09T14:20:51.566679",
     "status": "completed"
    },
    "tags": []
   },
   "outputs": [],
   "source": [
    "etr1 = ExtraTreesRegressor(n_estimators = 100)\n",
    "etr1.fit(X_train_pf, Y_train_pf)\n",
    "y_preds_pet = etr1.predict(X_test_pf)"
   ]
  },
  {
   "cell_type": "code",
   "execution_count": 42,
   "metadata": {
    "execution": {
     "iopub.execute_input": "2020-09-09T14:26:38.651549Z",
     "iopub.status.busy": "2020-09-09T14:26:38.650444Z",
     "iopub.status.idle": "2020-09-09T14:26:38.657778Z",
     "shell.execute_reply": "2020-09-09T14:26:38.657188Z"
    },
    "papermill": {
     "duration": 0.032156,
     "end_time": "2020-09-09T14:26:38.657902",
     "exception": false,
     "start_time": "2020-09-09T14:26:38.625746",
     "status": "completed"
    },
    "tags": []
   },
   "outputs": [
    {
     "name": "stdout",
     "output_type": "stream",
     "text": [
      "MAE: 22.65166795426452\n",
      "MSE: 601.809038681371\n",
      "R2: 0.6625460796391518\n"
     ]
    }
   ],
   "source": [
    "print(\"MAE: \" + str(mean_absolute_error(Y_test_pf, y_preds_pet)))\n",
    "print(\"MSE: \" + str(mean_squared_error(Y_test_pf, y_preds_pet)))\n",
    "print(\"R2: \" + str(r2_score(Y_test_pf, y_preds_pet)))"
   ]
  },
  {
   "cell_type": "markdown",
   "execution_count": null,
   "metadata": {
    "papermill": {
     "duration": 0.020135,
     "end_time": "2020-09-09T14:26:38.698289",
     "exception": false,
     "start_time": "2020-09-09T14:26:38.678154",
     "status": "completed"
    },
    "tags": []
   },
   "source": [
    "#### Gradient Boosting"
   ]
  },
  {
   "cell_type": "code",
   "execution_count": 43,
   "metadata": {
    "execution": {
     "iopub.execute_input": "2020-09-09T14:26:38.746776Z",
     "iopub.status.busy": "2020-09-09T14:26:38.746014Z",
     "iopub.status.idle": "2020-09-09T14:28:39.352538Z",
     "shell.execute_reply": "2020-09-09T14:28:39.351847Z"
    },
    "papermill": {
     "duration": 120.634045,
     "end_time": "2020-09-09T14:28:39.352672",
     "exception": false,
     "start_time": "2020-09-09T14:26:38.718627",
     "status": "completed"
    },
    "tags": []
   },
   "outputs": [],
   "source": [
    "gbr1 = GradientBoostingRegressor()\n",
    "gbr1.fit(X_train_pf, Y_train_pf)\n",
    "y_preds_pgb = gbr1.predict(X_test_pf)"
   ]
  },
  {
   "cell_type": "code",
   "execution_count": 44,
   "metadata": {
    "execution": {
     "iopub.execute_input": "2020-09-09T14:28:39.424704Z",
     "iopub.status.busy": "2020-09-09T14:28:39.423547Z",
     "iopub.status.idle": "2020-09-09T14:28:39.431935Z",
     "shell.execute_reply": "2020-09-09T14:28:39.431308Z"
    },
    "papermill": {
     "duration": 0.046806,
     "end_time": "2020-09-09T14:28:39.432031",
     "exception": false,
     "start_time": "2020-09-09T14:28:39.385225",
     "status": "completed"
    },
    "tags": []
   },
   "outputs": [
    {
     "name": "stdout",
     "output_type": "stream",
     "text": [
      "MAE: 22.592000815443814\n",
      "MSE: 583.5251601370452\n",
      "R2: 0.6727984455851724\n"
     ]
    }
   ],
   "source": [
    "print(\"MAE: \" + str(mean_absolute_error(Y_test_pf, y_preds_pgb)))\n",
    "print(\"MSE: \" + str(mean_squared_error(Y_test_pf, y_preds_pgb)))\n",
    "print(\"R2: \" + str(r2_score(Y_test_pf, y_preds_pgb)))"
   ]
  },
  {
   "cell_type": "markdown",
   "execution_count": null,
   "metadata": {
    "papermill": {
     "duration": 0.01973,
     "end_time": "2020-09-09T14:28:39.472341",
     "exception": false,
     "start_time": "2020-09-09T14:28:39.452611",
     "status": "completed"
    },
    "tags": []
   },
   "source": [
    "## Regression Testing"
   ]
  },
  {
   "cell_type": "code",
   "execution_count": 45,
   "metadata": {
    "execution": {
     "iopub.execute_input": "2020-09-09T14:28:39.535542Z",
     "iopub.status.busy": "2020-09-09T14:28:39.525319Z",
     "iopub.status.idle": "2020-09-09T14:28:39.617914Z",
     "shell.execute_reply": "2020-09-09T14:28:39.617406Z"
    },
    "papermill": {
     "duration": 0.12536,
     "end_time": "2020-09-09T14:28:39.618009",
     "exception": false,
     "start_time": "2020-09-09T14:28:39.492649",
     "status": "completed"
    },
    "tags": []
   },
   "outputs": [],
   "source": [
    "truth_val_1 = Y_test >= 15; truth_val_2 = Y_test < 100\n",
    "tv1 = [i&j for i,j in zip(truth_val_1, truth_val_2)]\n",
    "\n",
    "truth_val_1 = Y_test >= 100; truth_val_2 = Y_test < 200\n",
    "tv2 = [i&j for i,j in zip(truth_val_1, truth_val_2)]\n",
    "\n",
    "truth_val_1 = Y_test >= 200; truth_val_2 = Y_test < 500\n",
    "tv3 = [i&j for i,j in zip(truth_val_1, truth_val_2)]\n",
    "\n",
    "truth_val_1 = Y_test >= 500; truth_val_2 = Y_test < 1000\n",
    "tv4 = [i&j for i,j in zip(truth_val_1, truth_val_2)]\n",
    "\n",
    "truth_val_1 = Y_test >= 1000\n",
    "tv5 = truth_val_1"
   ]
  },
  {
   "cell_type": "code",
   "execution_count": 46,
   "metadata": {
    "execution": {
     "iopub.execute_input": "2020-09-09T14:28:39.666907Z",
     "iopub.status.busy": "2020-09-09T14:28:39.666307Z",
     "iopub.status.idle": "2020-09-09T14:28:39.807179Z",
     "shell.execute_reply": "2020-09-09T14:28:39.807626Z"
    },
    "papermill": {
     "duration": 0.169832,
     "end_time": "2020-09-09T14:28:39.807737",
     "exception": false,
     "start_time": "2020-09-09T14:28:39.637905",
     "status": "completed"
    },
    "tags": []
   },
   "outputs": [],
   "source": [
    "X1 = X_test[tv1]\n",
    "Y1 = Y_test[tv1]\n",
    "\n",
    "X2 = X_test[tv2]\n",
    "Y2 = Y_test[tv2]\n",
    "\n",
    "X3 = X_test[tv3]\n",
    "Y3 = Y_test[tv3]\n",
    "\n",
    "X4 = X_test[tv4]\n",
    "Y4 = Y_test[tv4]\n",
    "\n",
    "X5 = X_test[tv5]\n",
    "Y5 = Y_test[tv5]"
   ]
  },
  {
   "cell_type": "markdown",
   "execution_count": null,
   "metadata": {
    "papermill": {
     "duration": 0.019738,
     "end_time": "2020-09-09T14:28:39.847422",
     "exception": false,
     "start_time": "2020-09-09T14:28:39.827684",
     "status": "completed"
    },
    "tags": []
   },
   "source": [
    "### Slot1 15-100"
   ]
  },
  {
   "cell_type": "code",
   "execution_count": 47,
   "metadata": {
    "execution": {
     "iopub.execute_input": "2020-09-09T14:28:39.893250Z",
     "iopub.status.busy": "2020-09-09T14:28:39.892652Z",
     "iopub.status.idle": "2020-09-09T14:28:43.808275Z",
     "shell.execute_reply": "2020-09-09T14:28:43.807208Z"
    },
    "papermill": {
     "duration": 3.940896,
     "end_time": "2020-09-09T14:28:43.808384",
     "exception": false,
     "start_time": "2020-09-09T14:28:39.867488",
     "status": "completed"
    },
    "tags": []
   },
   "outputs": [
    {
     "name": "stdout",
     "output_type": "stream",
     "text": [
      "MAE: 10.737502312031815\n",
      "MSE: 199.80472177433026\n",
      "R2: 0.591783038720278\n"
     ]
    }
   ],
   "source": [
    "y_preds_slot1 = etr.predict(X1)\n",
    "print(\"MAE: \" + str(mean_absolute_error(Y1, y_preds_slot1)))\n",
    "print(\"MSE: \" + str(mean_squared_error(Y1, y_preds_slot1)))\n",
    "print(\"R2: \" + str(r2_score(Y1, y_preds_slot1)))"
   ]
  },
  {
   "cell_type": "markdown",
   "execution_count": null,
   "metadata": {
    "papermill": {
     "duration": 0.020213,
     "end_time": "2020-09-09T14:28:43.849331",
     "exception": false,
     "start_time": "2020-09-09T14:28:43.829118",
     "status": "completed"
    },
    "tags": []
   },
   "source": [
    "### Slot 2 100-200"
   ]
  },
  {
   "cell_type": "code",
   "execution_count": 48,
   "metadata": {
    "execution": {
     "iopub.execute_input": "2020-09-09T14:28:43.896513Z",
     "iopub.status.busy": "2020-09-09T14:28:43.895326Z",
     "iopub.status.idle": "2020-09-09T14:28:44.434122Z",
     "shell.execute_reply": "2020-09-09T14:28:44.434907Z"
    },
    "papermill": {
     "duration": 0.565235,
     "end_time": "2020-09-09T14:28:44.435065",
     "exception": false,
     "start_time": "2020-09-09T14:28:43.869830",
     "status": "completed"
    },
    "tags": []
   },
   "outputs": [
    {
     "name": "stdout",
     "output_type": "stream",
     "text": [
      "MAE: 18.610859987618657\n",
      "MSE: 717.4430580195005\n",
      "R2: 0.01356092871820358\n"
     ]
    }
   ],
   "source": [
    "y_preds_slot2 = etr.predict(X2)\n",
    "print(\"MAE: \" + str(mean_absolute_error(Y2, y_preds_slot2)))\n",
    "print(\"MSE: \" + str(mean_squared_error(Y2, y_preds_slot2)))\n",
    "print(\"R2: \" + str(r2_score(Y2, y_preds_slot2)))"
   ]
  },
  {
   "cell_type": "markdown",
   "execution_count": null,
   "metadata": {
    "papermill": {
     "duration": 0.031976,
     "end_time": "2020-09-09T14:28:44.500008",
     "exception": false,
     "start_time": "2020-09-09T14:28:44.468032",
     "status": "completed"
    },
    "tags": []
   },
   "source": [
    "### Slot 3 200-500"
   ]
  },
  {
   "cell_type": "code",
   "execution_count": 49,
   "metadata": {
    "execution": {
     "iopub.execute_input": "2020-09-09T14:28:44.568496Z",
     "iopub.status.busy": "2020-09-09T14:28:44.567880Z",
     "iopub.status.idle": "2020-09-09T14:28:44.701144Z",
     "shell.execute_reply": "2020-09-09T14:28:44.700558Z"
    },
    "papermill": {
     "duration": 0.169791,
     "end_time": "2020-09-09T14:28:44.701248",
     "exception": false,
     "start_time": "2020-09-09T14:28:44.531457",
     "status": "completed"
    },
    "tags": []
   },
   "outputs": [
    {
     "name": "stdout",
     "output_type": "stream",
     "text": [
      "MAE: 20.03369401648155\n",
      "MSE: 920.2403162307417\n",
      "R2: 0.7843170117389957\n"
     ]
    }
   ],
   "source": [
    "y_preds_slot3 = etr.predict(X3)\n",
    "print(\"MAE: \" + str(mean_absolute_error(Y3, y_preds_slot3)))\n",
    "print(\"MSE: \" + str(mean_squared_error(Y3, y_preds_slot3)))\n",
    "print(\"R2: \" + str(r2_score(Y3, y_preds_slot3)))"
   ]
  },
  {
   "cell_type": "markdown",
   "execution_count": null,
   "metadata": {
    "papermill": {
     "duration": 0.020224,
     "end_time": "2020-09-09T14:28:44.742377",
     "exception": false,
     "start_time": "2020-09-09T14:28:44.722153",
     "status": "completed"
    },
    "tags": []
   },
   "source": [
    "### Slot 4 500 - 1000"
   ]
  },
  {
   "cell_type": "code",
   "execution_count": 50,
   "metadata": {
    "execution": {
     "iopub.execute_input": "2020-09-09T14:28:44.790044Z",
     "iopub.status.busy": "2020-09-09T14:28:44.789394Z",
     "iopub.status.idle": "2020-09-09T14:28:44.810832Z",
     "shell.execute_reply": "2020-09-09T14:28:44.811508Z"
    },
    "papermill": {
     "duration": 0.048394,
     "end_time": "2020-09-09T14:28:44.811707",
     "exception": false,
     "start_time": "2020-09-09T14:28:44.763313",
     "status": "completed"
    },
    "tags": []
   },
   "outputs": [
    {
     "name": "stdout",
     "output_type": "stream",
     "text": [
      "MAE: 23.739863013698628\n",
      "MSE: 1084.759598630137\n",
      "R2: 0.9436713517709263\n"
     ]
    }
   ],
   "source": [
    "y_preds_slot4 = etr.predict(X4)\n",
    "print(\"MAE: \" + str(mean_absolute_error(Y4, y_preds_slot4)))\n",
    "print(\"MSE: \" + str(mean_squared_error(Y4, y_preds_slot4)))\n",
    "print(\"R2: \" + str(r2_score(Y4, y_preds_slot4)))"
   ]
  },
  {
   "cell_type": "markdown",
   "execution_count": null,
   "metadata": {
    "papermill": {
     "duration": 0.021064,
     "end_time": "2020-09-09T14:28:44.858499",
     "exception": false,
     "start_time": "2020-09-09T14:28:44.837435",
     "status": "completed"
    },
    "tags": []
   },
   "source": [
    "### Slot 5 1000+"
   ]
  },
  {
   "cell_type": "code",
   "execution_count": 51,
   "metadata": {
    "execution": {
     "iopub.execute_input": "2020-09-09T14:28:44.910324Z",
     "iopub.status.busy": "2020-09-09T14:28:44.909134Z",
     "iopub.status.idle": "2020-09-09T14:28:44.927766Z",
     "shell.execute_reply": "2020-09-09T14:28:44.927166Z"
    },
    "papermill": {
     "duration": 0.048525,
     "end_time": "2020-09-09T14:28:44.927887",
     "exception": false,
     "start_time": "2020-09-09T14:28:44.879362",
     "status": "completed"
    },
    "tags": []
   },
   "outputs": [
    {
     "name": "stdout",
     "output_type": "stream",
     "text": [
      "MAE: 30.09937500000001\n",
      "MSE: 1139.8909437500004\n",
      "R2: 0.926870573140057\n"
     ]
    }
   ],
   "source": [
    "y_preds_slot5 = etr.predict(X5)\n",
    "print(\"MAE: \" + str(mean_absolute_error(Y5, y_preds_slot5)))\n",
    "print(\"MSE: \" + str(mean_squared_error(Y5, y_preds_slot5)))\n",
    "print(\"R2: \" + str(r2_score(Y5, y_preds_slot5)))"
   ]
  }
 ],
 "metadata": {
  "kernelspec": {
   "display_name": "Python 3",
   "language": "python",
   "name": "python3"
  },
  "language_info": {
   "codemirror_mode": {
    "name": "ipython",
    "version": 3
   },
   "file_extension": ".py",
   "mimetype": "text/x-python",
   "name": "python",
   "nbconvert_exporter": "python",
   "pygments_lexer": "ipython3",
   "version": "3.7.6"
  },
  "papermill": {
   "duration": 3960.813363,
   "end_time": "2020-09-09T14:28:45.558264",
   "environment_variables": {},
   "exception": null,
   "input_path": "__notebook__.ipynb",
   "output_path": "__notebook__.ipynb",
   "parameters": {},
   "start_time": "2020-09-09T13:22:44.744901",
   "version": "2.1.0"
  }
 },
 "nbformat": 4,
 "nbformat_minor": 4
}
